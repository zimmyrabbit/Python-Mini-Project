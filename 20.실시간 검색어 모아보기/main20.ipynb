{
 "cells": [
  {
   "cell_type": "code",
   "execution_count": 4,
   "metadata": {},
   "outputs": [
    {
     "name": "stderr",
     "output_type": "stream",
     "text": [
      "C:\\Users\\zimmy\\AppData\\Local\\Temp\\ipykernel_9180\\314436031.py:4: DeprecationWarning: executable_path has been deprecated, please pass in a Service object\n",
      "  driver = webdriver.Chrome(ChromeDriverManager().install())\n"
     ]
    }
   ],
   "source": [
    "from webdriver_manager.chrome import ChromeDriverManager\n",
    "from selenium import webdriver\n",
    "\n",
    "driver = webdriver.Chrome(ChromeDriverManager().install())\n",
    "\n",
    "URL = 'https://www.google.co.kr/imghp'\n",
    "driver.get(url=URL)\n",
    "\n",
    "driver.implicitly_wait(time_to_wait=10)"
   ]
  },
  {
   "cell_type": "code",
   "execution_count": 5,
   "metadata": {},
   "outputs": [
    {
     "name": "stdout",
     "output_type": "stream",
     "text": [
      "박술녀\n",
      "송가인\n",
      "규모 5.4 지진\n",
      "구룡마을 전기 문제\n",
      "송중기\n",
      "연말정산 간소화\n",
      "허지웅 욕실 나오다\n",
      "이강인\n",
      "안방판사\n",
      "김호중\n"
     ]
    }
   ],
   "source": [
    "from selenium.webdriver.common.by import By\n",
    "\n",
    "URL = 'https://signal.bz/news'\n",
    "driver.get(url=URL)\n",
    "driver.implicitly_wait(time_to_wait=10)\n",
    "\n",
    "naver_results = driver.find_elements(By.CSS_SELECTOR, '#app > div > main > div > section > div > section > section:nth-child(2) > div:nth-child(2) > div > div > div > a > span.rank-text')\n",
    "\n",
    "naver_list = []\n",
    "for naver_result in naver_results:\n",
    "    print(naver_result.text)\n",
    "    naver_list.append(naver_result.text)"
   ]
  },
  {
   "cell_type": "code",
   "execution_count": 6,
   "metadata": {},
   "outputs": [
    {
     "name": "stdout",
     "output_type": "stream",
     "text": [
      "박술녀\n",
      "규모 5.4 지진\n",
      "구룡마을 전기 문제\n",
      "허지웅 욕실 나오다\n",
      "안방판사\n",
      "최강 한파에 난방비\n",
      "김지영\n",
      "실내서도 마스크 9시\n",
      "한국인 관리 실패했나\n",
      "\n"
     ]
    }
   ],
   "source": [
    "URL = 'https://www.nate.com'\n",
    "driver.get(url=URL)\n",
    "driver.implicitly_wait(time_to_wait=10)\n",
    "\n",
    "driver.find_element(By.CSS_SELECTOR, '#olLiveIssueKeyword > li:nth-child(1) > a > span.txt_rank').click()\n",
    "\n",
    "nate_results = driver.find_elements(By.CSS_SELECTOR, '#search-option > form:nth-child(1) > fieldset > div.issue-kwd > span > a')\n",
    "\n",
    "nate_list = []\n",
    "for nate_result in nate_results:\n",
    "    print(nate_result.text)\n",
    "    nate_list.append(nate_result.text)"
   ]
  },
  {
   "cell_type": "code",
   "execution_count": 7,
   "metadata": {},
   "outputs": [
    {
     "name": "stdout",
     "output_type": "stream",
     "text": [
      "송가인\n",
      "연말정산 간소화\n",
      "이강인\n",
      "이재명\n",
      "손흥민\n",
      "서주원\n",
      "정이\n",
      "육사오\n",
      "삼남매가 용감하게\n",
      "나철\n"
     ]
    }
   ],
   "source": [
    "import time\n",
    "\n",
    "URL = 'https://www.zum.com'\n",
    "driver.get(url=URL)\n",
    "driver.implicitly_wait(time_to_wait=10)\n",
    "\n",
    "driver.find_element(By.CSS_SELECTOR, '#app > div > header > div.search_bar > div > fieldset > div > input[type=text]').send_keys('검색')\n",
    "time.sleep(0.5)\n",
    "\n",
    "driver.find_element(By.CSS_SELECTOR, '#app > div > header > div.search_bar > div > fieldset > div > button.search').click()\n",
    "time.sleep(1)\n",
    "\n",
    "zum_results = driver.find_elements(By.CSS_SELECTOR, '#issue_wrap > ul > li > div > a:nth-child(1) > span.txt')\n",
    "\n",
    "zum_list = []\n",
    "for zum_result in zum_results:\n",
    "    print(zum_result.text)\n",
    "    zum_list.append(zum_result.text)"
   ]
  },
  {
   "cell_type": "code",
   "execution_count": null,
   "metadata": {},
   "outputs": [],
   "source": [
    "print('네이버', naver_list)\n",
    "print('네이트', nate_list)\n",
    "print('줌', zum_list)"
   ]
  }
 ],
 "metadata": {
  "kernelspec": {
   "display_name": "base",
   "language": "python",
   "name": "python3"
  },
  "language_info": {
   "codemirror_mode": {
    "name": "ipython",
    "version": 3
   },
   "file_extension": ".py",
   "mimetype": "text/x-python",
   "name": "python",
   "nbconvert_exporter": "python",
   "pygments_lexer": "ipython3",
   "version": "3.9.13"
  },
  "orig_nbformat": 4,
  "vscode": {
   "interpreter": {
    "hash": "031e75a1e1eac5bd64fc7a3b1a574aa18fcfa1c703b93c3ebd2ba80f0e61f3bb"
   }
  }
 },
 "nbformat": 4,
 "nbformat_minor": 2
}
